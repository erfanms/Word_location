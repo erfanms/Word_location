{
  "nbformat": 4,
  "nbformat_minor": 0,
  "metadata": {
    "colab": {
      "name": "Text cordinate extraction.ipynb",
      "provenance": [],
      "authorship_tag": "ABX9TyNfaHmLan7gwIV9v4NXMXrJ"
    },
    "kernelspec": {
      "name": "python3",
      "display_name": "Python 3"
    }
  },
  "cells": [
    {
      "cell_type": "code",
      "metadata": {
        "id": "WqzrBQ5sOXgM",
        "outputId": "84ca0fbf-b7fa-44de-889c-f76daae54d06",
        "colab": {
          "base_uri": "https://localhost:8080/"
        }
      },
      "source": [
        "pip install PyMuPDF"
      ],
      "execution_count": 1,
      "outputs": [
        {
          "output_type": "stream",
          "text": [
            "Collecting PyMuPDF\n",
            "\u001b[?25l  Downloading https://files.pythonhosted.org/packages/81/75/442a1bcc89569453969f34a53000e8a80e3da13367e3e29b81b5137ef388/PyMuPDF-1.18.3-cp36-cp36m-manylinux2010_x86_64.whl (6.3MB)\n",
            "\u001b[K     |████████████████████████████████| 6.3MB 5.9MB/s \n",
            "\u001b[?25hInstalling collected packages: PyMuPDF\n",
            "Successfully installed PyMuPDF-1.18.3\n"
          ],
          "name": "stdout"
        }
      ]
    },
    {
      "cell_type": "code",
      "metadata": {
        "id": "q_xxiLjxPt42"
      },
      "source": [
        "import fitz\n",
        "import numpy as np\n",
        "import pandas as pd"
      ],
      "execution_count": null,
      "outputs": []
    },
    {
      "cell_type": "code",
      "metadata": {
        "id": "FrpqQihHOaT6",
        "outputId": "e9e7eee2-383d-4ba7-9a1b-b1d76e37fe2e",
        "colab": {
          "base_uri": "https://localhost:8080/",
          "height": 419
        }
      },
      "source": [
        "df = fitz.open('a.pdf')\n",
        "page = df[0]\n",
        "wordlist = page.getText(\"words\")\n",
        "x = []\n",
        "y= []\n",
        "word = []\n",
        "for i in wordlist:\n",
        "  x.append(i[0])\n",
        "  y.append(i[1])\n",
        "  word.append(i[4])\n",
        "cord = {'x-cord':x, 'y-cord':y}\n",
        "pd.DataFrame(cord, index = word)"
      ],
      "execution_count": 6,
      "outputs": [
        {
          "output_type": "execute_result",
          "data": {
            "text/html": [
              "<div>\n",
              "<style scoped>\n",
              "    .dataframe tbody tr th:only-of-type {\n",
              "        vertical-align: middle;\n",
              "    }\n",
              "\n",
              "    .dataframe tbody tr th {\n",
              "        vertical-align: top;\n",
              "    }\n",
              "\n",
              "    .dataframe thead th {\n",
              "        text-align: right;\n",
              "    }\n",
              "</style>\n",
              "<table border=\"1\" class=\"dataframe\">\n",
              "  <thead>\n",
              "    <tr style=\"text-align: right;\">\n",
              "      <th></th>\n",
              "      <th>x-cord</th>\n",
              "      <th>y-cord</th>\n",
              "    </tr>\n",
              "  </thead>\n",
              "  <tbody>\n",
              "    <tr>\n",
              "      <th>Page</th>\n",
              "      <td>466.199982</td>\n",
              "      <td>734.191589</td>\n",
              "    </tr>\n",
              "    <tr>\n",
              "      <th>1</th>\n",
              "      <td>488.760010</td>\n",
              "      <td>734.191589</td>\n",
              "    </tr>\n",
              "    <tr>\n",
              "      <th>of</th>\n",
              "      <td>496.318726</td>\n",
              "      <td>734.191589</td>\n",
              "    </tr>\n",
              "    <tr>\n",
              "      <th>16</th>\n",
              "      <td>507.239990</td>\n",
              "      <td>734.191589</td>\n",
              "    </tr>\n",
              "    <tr>\n",
              "      <th>Food</th>\n",
              "      <td>227.759995</td>\n",
              "      <td>69.631531</td>\n",
              "    </tr>\n",
              "    <tr>\n",
              "      <th>...</th>\n",
              "      <td>...</td>\n",
              "      <td>...</td>\n",
              "    </tr>\n",
              "    <tr>\n",
              "      <th>and</th>\n",
              "      <td>195.174545</td>\n",
              "      <td>682.111572</td>\n",
              "    </tr>\n",
              "    <tr>\n",
              "      <th>other</th>\n",
              "      <td>213.573883</td>\n",
              "      <td>682.111572</td>\n",
              "    </tr>\n",
              "    <tr>\n",
              "      <th>electronic</th>\n",
              "      <td>239.362564</td>\n",
              "      <td>682.111572</td>\n",
              "    </tr>\n",
              "    <tr>\n",
              "      <th>devices</th>\n",
              "      <td>284.216980</td>\n",
              "      <td>682.111572</td>\n",
              "    </tr>\n",
              "    <tr>\n",
              "      <th>BANNED:</th>\n",
              "      <td>318.382263</td>\n",
              "      <td>682.111572</td>\n",
              "    </tr>\n",
              "  </tbody>\n",
              "</table>\n",
              "<p>416 rows × 2 columns</p>\n",
              "</div>"
            ],
            "text/plain": [
              "                x-cord      y-cord\n",
              "Page        466.199982  734.191589\n",
              "1           488.760010  734.191589\n",
              "of          496.318726  734.191589\n",
              "16          507.239990  734.191589\n",
              "Food        227.759995   69.631531\n",
              "...                ...         ...\n",
              "and         195.174545  682.111572\n",
              "other       213.573883  682.111572\n",
              "electronic  239.362564  682.111572\n",
              "devices     284.216980  682.111572\n",
              "BANNED:     318.382263  682.111572\n",
              "\n",
              "[416 rows x 2 columns]"
            ]
          },
          "metadata": {
            "tags": []
          },
          "execution_count": 6
        }
      ]
    },
    {
      "cell_type": "code",
      "metadata": {
        "id": "Nr97W3eDOlZU"
      },
      "source": [
        ""
      ],
      "execution_count": null,
      "outputs": []
    }
  ]
}